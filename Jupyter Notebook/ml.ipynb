{
 "cells": [
  {
   "cell_type": "code",
   "execution_count": 1,
   "id": "9f261167",
   "metadata": {},
   "outputs": [],
   "source": [
    "import sys\n",
    "sys.path.append('src')\n",
    "from sklearn.svm import SVC\n",
    "from datetime import datetime\n",
    "from src.Printer import Printer\n",
    "from src.DataHelper import DataHelper\n",
    "import pandas as pd\n",
    "import warnings\n",
    "warnings.filterwarnings(\"ignore\")\n",
    "\n",
    "from sklearn.linear_model import LinearRegression\n",
    "from sklearn.metrics import mean_squared_error, mean_absolute_error\n",
    "from sklearn.metrics import accuracy_score, classification_report\n",
    "from sklearn.model_selection import train_test_split\n",
    "from sklearn.neighbors import KNeighborsClassifier\n",
    "from sklearn.model_selection import GridSearchCV\n",
    "\n",
    "from keras.models import Sequential\n",
    "from keras.layers import Dense\n",
    "from keras.optimizers import Adam\n",
    "\n",
    "\n",
    "from sklearn.kernel_approximation import RBFSampler\n",
    "from sklearn.pipeline import make_pipeline"
   ]
  },
  {
   "cell_type": "code",
   "execution_count": 2,
   "id": "01822350",
   "metadata": {},
   "outputs": [],
   "source": [
    "printer = Printer(enabled=False)\n",
    "dataHelper = DataHelper(show_tables=False, printer=printer)"
   ]
  },
  {
   "cell_type": "code",
   "execution_count": 4,
   "id": "3906c5b0",
   "metadata": {},
   "outputs": [],
   "source": [
    "df = pd.read_csv(\"data/diabetes_prediction_dataset.csv\")\n",
    "\n",
    "dataHelper.showInitData(df)"
   ]
  },
  {
   "cell_type": "code",
   "execution_count": 5,
   "id": "baceb925",
   "metadata": {},
   "outputs": [],
   "source": [
    "df_encoded = dataHelper.format_obj_col(df)"
   ]
  },
  {
   "cell_type": "code",
   "execution_count": 6,
   "id": "531f0f74",
   "metadata": {},
   "outputs": [],
   "source": [
    "X_balanced, y_balanced = dataHelper.smote_resample(df_encoded)"
   ]
  },
  {
   "cell_type": "code",
   "execution_count": 7,
   "id": "4e08dc1e",
   "metadata": {},
   "outputs": [],
   "source": [
    "# Split the data into training and testing sets\n",
    "X_train, X_test, y_train, y_test = train_test_split(X_balanced, y_balanced, test_size=0.2, random_state=42)"
   ]
  },
  {
   "cell_type": "code",
   "execution_count": 8,
   "id": "9d4247f4",
   "metadata": {},
   "outputs": [],
   "source": [
    "X_train_clean, y_train_clean = dataHelper.IQR(X_train, y_train)"
   ]
  },
  {
   "cell_type": "markdown",
   "id": "cbaee8d6",
   "metadata": {},
   "source": [
    "# Models"
   ]
  },
  {
   "cell_type": "markdown",
   "id": "c6eedc8c",
   "metadata": {},
   "source": [
    "## SVM Model"
   ]
  },
  {
   "cell_type": "code",
   "execution_count": 23,
   "id": "d79bda3e",
   "metadata": {},
   "outputs": [
    {
     "name": "stdout",
     "output_type": "stream",
     "text": [
      "Starting SVM linear 2024-03-17 02:40:13\n"
     ]
    },
    {
     "data": {
      "text/plain": [
       "SVC(kernel='linear')"
      ]
     },
     "execution_count": 23,
     "metadata": {},
     "output_type": "execute_result"
    }
   ],
   "source": [
    "current_time = datetime.now()\n",
    "print(\"Starting SVM linear\", current_time.strftime(\"%Y-%m-%d %H:%M:%S\"))\n",
    "svm_linear = SVC(kernel='linear')\n",
    "svm_linear.fit(X_train_clean.head(10000), y_train_clean.head(10000))"
   ]
  },
  {
   "cell_type": "markdown",
   "id": "0861dd20",
   "metadata": {},
   "source": [
    "### Testing svm linear"
   ]
  },
  {
   "cell_type": "code",
   "execution_count": 25,
   "id": "620ba5ef",
   "metadata": {},
   "outputs": [
    {
     "name": "stdout",
     "output_type": "stream",
     "text": [
      "SVM Linear Kernel Accuracy: 0.89\n"
     ]
    }
   ],
   "source": [
    "svm_linear_predictions = svm_linear.predict(X_test.head(10000))\n",
    "svm_linear_accuracy = accuracy_score(y_test.head(10000), svm_linear_predictions)\n",
    "print(f'SVM Linear Kernel Accuracy: {svm_linear_accuracy:.2f}')"
   ]
  },
  {
   "cell_type": "markdown",
   "id": "09d08f06",
   "metadata": {},
   "source": [
    "### Testing svm nonlinear"
   ]
  },
  {
   "cell_type": "code",
   "execution_count": 30,
   "id": "4ced5e1d",
   "metadata": {},
   "outputs": [
    {
     "name": "stdout",
     "output_type": "stream",
     "text": [
      " Starting SVM nonlinear 2024-03-17 02:44:16\n"
     ]
    },
    {
     "data": {
      "text/plain": [
       "SVC(C=1, gamma='auto')"
      ]
     },
     "execution_count": 30,
     "metadata": {},
     "output_type": "execute_result"
    }
   ],
   "source": [
    "current_time = datetime.now()\n",
    "print(\" Starting SVM nonlinear\", current_time.strftime(\"%Y-%m-%d %H:%M:%S\"))\n",
    "svm_rbf = SVC(kernel='rbf', gamma='auto', C=1)\n",
    "svm_rbf.fit(X_train_clean.head(10000), y_train_clean.head(10000))"
   ]
  },
  {
   "cell_type": "code",
   "execution_count": 33,
   "id": "f5c726ed",
   "metadata": {},
   "outputs": [
    {
     "name": "stdout",
     "output_type": "stream",
     "text": [
      "SVM RBF Kernel Accuracy: 0.85\n"
     ]
    }
   ],
   "source": [
    "svm_rbf_predictions = svm_rbf.predict(X_test)\n",
    "svm_rbf_accuracy = accuracy_score(y_test, svm_rbf_predictions)\n",
    "print(f'SVM RBF Kernel Accuracy: {svm_rbf_accuracy:.2f}')"
   ]
  },
  {
   "cell_type": "markdown",
   "id": "a93e664e",
   "metadata": {},
   "source": [
    "## MLP Model"
   ]
  },
  {
   "cell_type": "markdown",
   "id": "1499b1b7",
   "metadata": {},
   "source": [
    "## Creating layers"
   ]
  },
  {
   "cell_type": "code",
   "execution_count": 34,
   "id": "e2e38a86",
   "metadata": {},
   "outputs": [
    {
     "name": "stdout",
     "output_type": "stream",
     "text": [
      " Starting MLP Model 2024-03-17 02:47:57\n"
     ]
    }
   ],
   "source": [
    "current_time = datetime.now()\n",
    "print(\" Starting MLP Model\", current_time.strftime(\"%Y-%m-%d %H:%M:%S\"))\n",
    "mlp_model = Sequential()\n",
    "mlp_model.add(Dense(32, activation='relu', input_shape=(X_train_clean.shape[1],)))\n",
    "mlp_model.add(Dense(16, activation='relu'))\n",
    "mlp_model.add(Dense(1, activation='sigmoid'))\n",
    "\n",
    "mlp_model.compile(optimizer=Adam(learning_rate=0.001),\n",
    "                  loss='binary_crossentropy',\n",
    "                  metrics=['accuracy'])"
   ]
  },
  {
   "cell_type": "markdown",
   "id": "568b579d",
   "metadata": {},
   "source": [
    "## Fitting model"
   ]
  },
  {
   "cell_type": "code",
   "execution_count": 35,
   "id": "5c57492b",
   "metadata": {},
   "outputs": [],
   "source": [
    "mlp_history = mlp_model.fit(X_train_clean, y_train_clean, epochs=50, batch_size=32, validation_split=0.2, verbose=0)"
   ]
  },
  {
   "cell_type": "markdown",
   "id": "69f3e1ac",
   "metadata": {},
   "source": [
    "## Testing"
   ]
  },
  {
   "cell_type": "code",
   "execution_count": 37,
   "id": "5a033ddf",
   "metadata": {},
   "outputs": [
    {
     "name": "stdout",
     "output_type": "stream",
     "text": [
      "1144/1144 [==============================] - 1s 1ms/step - loss: 0.2043 - accuracy: 0.9037\n",
      "MLP Accuracy: 0.90\n"
     ]
    }
   ],
   "source": [
    "mlp_scores = mlp_model.evaluate(X_test, y_test)\n",
    "print(f'MLP Accuracy: {mlp_scores[1]:.2f}')"
   ]
  },
  {
   "cell_type": "markdown",
   "id": "a23f2371",
   "metadata": {},
   "source": [
    "## RBF Model"
   ]
  },
  {
   "cell_type": "code",
   "execution_count": 51,
   "id": "2fd7100c",
   "metadata": {},
   "outputs": [
    {
     "data": {
      "text/plain": [
       "Pipeline(steps=[('rbfsampler', RBFSampler(gamma=0.1, random_state=1)),\n",
       "                ('svc', SVC(C=1, kernel='linear'))])"
      ]
     },
     "execution_count": 51,
     "metadata": {},
     "output_type": "execute_result"
    }
   ],
   "source": [
    "# Define the RBFSampler\n",
    "rbf_feature = RBFSampler(gamma=0.1, random_state=1)\n",
    "\n",
    "# Define the SVM classifier\n",
    "svm_linear_for_rbf = SVC(kernel='linear', C=1)\n",
    "\n",
    "# Create a pipeline\n",
    "rbf_model = make_pipeline(rbf_feature, svm_linear_for_rbf)\n",
    "\n",
    "# Fit the model to the training data\n",
    "rbf_model.fit(X_train_clean.head(10000), y_train_clean.head(10000))"
   ]
  },
  {
   "cell_type": "markdown",
   "id": "de64f1fd",
   "metadata": {},
   "source": [
    "## Testing"
   ]
  },
  {
   "cell_type": "code",
   "execution_count": 52,
   "id": "9bb751bc",
   "metadata": {},
   "outputs": [
    {
     "name": "stdout",
     "output_type": "stream",
     "text": [
      "RBF Model Accuracy: 0.593688524590164\n",
      "RBF Model Classification Report:\n",
      "               precision    recall  f1-score   support\n",
      "\n",
      "           0       0.60      0.55      0.57     18293\n",
      "           1       0.59      0.64      0.61     18307\n",
      "\n",
      "    accuracy                           0.59     36600\n",
      "   macro avg       0.59      0.59      0.59     36600\n",
      "weighted avg       0.59      0.59      0.59     36600\n",
      "\n"
     ]
    }
   ],
   "source": [
    "# Predict on the test set\n",
    "rbf_predictions = rbf_model.predict(X_test)\n",
    "\n",
    "# Evaluate the model\n",
    "rbf_accuracy = accuracy_score(y_test, rbf_predictions)\n",
    "rbf_report = classification_report(y_test, rbf_predictions)\n",
    "\n",
    "print(\"RBF Model Accuracy:\", rbf_accuracy)\n",
    "print(\"RBF Model Classification Report:\\n\", rbf_report)"
   ]
  },
  {
   "cell_type": "markdown",
   "id": "393f55ca",
   "metadata": {},
   "source": [
    "## RBF Model"
   ]
  },
  {
   "cell_type": "code",
   "execution_count": 50,
   "id": "64b599db",
   "metadata": {},
   "outputs": [
    {
     "name": "stdout",
     "output_type": "stream",
     "text": [
      "Best Parameters: {'rbfsampler__gamma': 0.1, 'svc__C': 1}\n",
      "Model Accuracy: 0.5895\n",
      "Classification Report:\n",
      "               precision    recall  f1-score   support\n",
      "\n",
      "           0       0.60      0.55      0.57      5023\n",
      "           1       0.58      0.63      0.61      4977\n",
      "\n",
      "    accuracy                           0.59     10000\n",
      "   macro avg       0.59      0.59      0.59     10000\n",
      "weighted avg       0.59      0.59      0.59     10000\n",
      "\n"
     ]
    }
   ],
   "source": [
    "# Define the RBFSampler\n",
    "rbf_feature = RBFSampler(random_state=1)\n",
    "\n",
    "# Define the SVM classifier\n",
    "svm_linear_for_rbf = SVC(kernel='linear')\n",
    "\n",
    "# Create a pipeline\n",
    "rbf_model = make_pipeline(rbf_feature, svm_linear_for_rbf)\n",
    "\n",
    "# Define the parameter grid\n",
    "param_grid = {\n",
    "    'rbfsampler__gamma': [0.1, 1, 10],  # Adjust the gamma values as needed\n",
    "    'svc__C': [0.1, 1, 10],  # Adjust the C values as needed\n",
    "}\n",
    "\n",
    "# Create the GridSearchCV object\n",
    "grid_search = GridSearchCV(rbf_model, param_grid, cv=5, scoring='accuracy')\n",
    "\n",
    "# Fit the grid search to the training data\n",
    "grid_search.fit(X_train_clean.head(10000), y_train_clean.head(10000))\n",
    "\n",
    "# Get the best parameters and best estimator\n",
    "best_params = grid_search.best_params_\n",
    "best_estimator = grid_search.best_estimator_\n",
    "\n",
    "print(\"Best Parameters:\", best_params)\n",
    "\n",
    "# Predict on the test set using the best estimator\n",
    "y_pred = best_estimator.predict(X_test.head(10000))\n",
    "\n",
    "# Evaluate the model\n",
    "accuracy = accuracy_score(y_test.head(10000), y_pred)\n",
    "report = classification_report(y_test.head(10000), y_pred)\n",
    "\n",
    "print(\"Model Accuracy:\", accuracy)\n",
    "print(\"Classification Report:\\n\", report)"
   ]
  },
  {
   "cell_type": "code",
   "execution_count": 30,
   "id": "aa382759",
   "metadata": {},
   "outputs": [
    {
     "name": "stdout",
     "output_type": "stream",
     "text": [
      "RBF Model Accuracy: 0.593688524590164\n",
      "MLP Accuracy: 0.89\n",
      "SVM RBF Kernel Accuracy: 0.85\n",
      "SVM Linear Kernel Accuracy: 0.89\n"
     ]
    }
   ],
   "source": [
    "print(\"RBF Model Accuracy:\", rbf_accuracy)\n",
    "print(f'MLP Accuracy: {mlp_scores[1]:.2f}')\n",
    "print(f'SVM RBF Kernel Accuracy: {svm_rbf_accuracy:.2f}')\n",
    "print(f'SVM Linear Kernel Accuracy: {svm_linear_accuracy:.2f}')"
   ]
  },
  {
   "cell_type": "code",
   "execution_count": 37,
   "id": "1c2e9942",
   "metadata": {},
   "outputs": [
    {
     "data": {
      "text/plain": [
       "pandas.core.frame.DataFrame"
      ]
     },
     "execution_count": 37,
     "metadata": {},
     "output_type": "execute_result"
    }
   ],
   "source": [
    "type(X_test.head(1))\n"
   ]
  },
  {
   "cell_type": "code",
   "execution_count": 39,
   "id": "5fc47637",
   "metadata": {},
   "outputs": [
    {
     "data": {
      "text/plain": [
       "array([1, 0, 0, ..., 1, 1, 0], dtype=int64)"
      ]
     },
     "execution_count": 39,
     "metadata": {},
     "output_type": "execute_result"
    }
   ],
   "source": [
    "svm_linear_predictions"
   ]
  },
  {
   "cell_type": "code",
   "execution_count": 52,
   "id": "03b14dd1",
   "metadata": {},
   "outputs": [
    {
     "name": "stdout",
     "output_type": "stream",
     "text": [
      "Prediction: [0]\n"
     ]
    }
   ],
   "source": [
    "# Define the features for the individual case with all columns specified\n",
    "data = {\n",
    "    'gender': [0],\n",
    "    'age': [54.0],\n",
    "    'hypertension': [0],\n",
    "    'heart_disease': [0],\n",
    "    'smoking_history': [0],\n",
    "    'bmi': [27.32],\n",
    "    'HbA1c_level': [6.6],\n",
    "    'blood_glucose_level': [80]\n",
    "}\n",
    "\n",
    "# Create a DataFrame for the individual case with the same columns as the training data\n",
    "individual_case = pd.DataFrame(data, columns=X_train.columns)\n",
    "\n",
    "# Use svm_linear.predict on this individual_case\n",
    "prediction = svm_linear.predict(individual_case)\n",
    "\n",
    "# Print the prediction\n",
    "print(\"Prediction:\", prediction)"
   ]
  },
  {
   "cell_type": "code",
   "execution_count": null,
   "id": "36d66303",
   "metadata": {},
   "outputs": [],
   "source": []
  }
 ],
 "metadata": {
  "kernelspec": {
   "display_name": "Python 3 (ipykernel)",
   "language": "python",
   "name": "python3"
  },
  "language_info": {
   "codemirror_mode": {
    "name": "ipython",
    "version": 3
   },
   "file_extension": ".py",
   "mimetype": "text/x-python",
   "name": "python",
   "nbconvert_exporter": "python",
   "pygments_lexer": "ipython3",
   "version": "3.9.13"
  }
 },
 "nbformat": 4,
 "nbformat_minor": 5
}
